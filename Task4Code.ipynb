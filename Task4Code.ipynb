{
 "cells": [
  {
   "cell_type": "markdown",
   "id": "e8149f7e",
   "metadata": {},
   "source": [
    "# Task 4"
   ]
  },
  {
   "cell_type": "code",
   "execution_count": 2,
   "id": "8e873885",
   "metadata": {},
   "outputs": [],
   "source": [
    "import numpy as np\n",
    "import pandas as pd"
   ]
  },
  {
   "cell_type": "code",
   "execution_count": 4,
   "id": "7a8c1f3f",
   "metadata": {},
   "outputs": [
    {
     "data": {
      "text/html": [
       "<div>\n",
       "<style scoped>\n",
       "    .dataframe tbody tr th:only-of-type {\n",
       "        vertical-align: middle;\n",
       "    }\n",
       "\n",
       "    .dataframe tbody tr th {\n",
       "        vertical-align: top;\n",
       "    }\n",
       "\n",
       "    .dataframe thead th {\n",
       "        text-align: right;\n",
       "    }\n",
       "</style>\n",
       "<table border=\"1\" class=\"dataframe\">\n",
       "  <thead>\n",
       "    <tr style=\"text-align: right;\">\n",
       "      <th></th>\n",
       "      <th>customer_id</th>\n",
       "      <th>credit_lines_outstanding</th>\n",
       "      <th>loan_amt_outstanding</th>\n",
       "      <th>total_debt_outstanding</th>\n",
       "      <th>income</th>\n",
       "      <th>years_employed</th>\n",
       "      <th>fico_score</th>\n",
       "      <th>default</th>\n",
       "    </tr>\n",
       "  </thead>\n",
       "  <tbody>\n",
       "    <tr>\n",
       "      <th>0</th>\n",
       "      <td>8153374</td>\n",
       "      <td>0</td>\n",
       "      <td>5221.545193</td>\n",
       "      <td>3915.471226</td>\n",
       "      <td>78039.38546</td>\n",
       "      <td>5</td>\n",
       "      <td>605</td>\n",
       "      <td>0</td>\n",
       "    </tr>\n",
       "    <tr>\n",
       "      <th>1</th>\n",
       "      <td>7442532</td>\n",
       "      <td>5</td>\n",
       "      <td>1958.928726</td>\n",
       "      <td>8228.752520</td>\n",
       "      <td>26648.43525</td>\n",
       "      <td>2</td>\n",
       "      <td>572</td>\n",
       "      <td>1</td>\n",
       "    </tr>\n",
       "    <tr>\n",
       "      <th>2</th>\n",
       "      <td>2256073</td>\n",
       "      <td>0</td>\n",
       "      <td>3363.009259</td>\n",
       "      <td>2027.830850</td>\n",
       "      <td>65866.71246</td>\n",
       "      <td>4</td>\n",
       "      <td>602</td>\n",
       "      <td>0</td>\n",
       "    </tr>\n",
       "    <tr>\n",
       "      <th>3</th>\n",
       "      <td>4885975</td>\n",
       "      <td>0</td>\n",
       "      <td>4766.648001</td>\n",
       "      <td>2501.730397</td>\n",
       "      <td>74356.88347</td>\n",
       "      <td>5</td>\n",
       "      <td>612</td>\n",
       "      <td>0</td>\n",
       "    </tr>\n",
       "    <tr>\n",
       "      <th>4</th>\n",
       "      <td>4700614</td>\n",
       "      <td>1</td>\n",
       "      <td>1345.827718</td>\n",
       "      <td>1768.826187</td>\n",
       "      <td>23448.32631</td>\n",
       "      <td>6</td>\n",
       "      <td>631</td>\n",
       "      <td>0</td>\n",
       "    </tr>\n",
       "  </tbody>\n",
       "</table>\n",
       "</div>"
      ],
      "text/plain": [
       "   customer_id  credit_lines_outstanding  loan_amt_outstanding  \\\n",
       "0      8153374                         0           5221.545193   \n",
       "1      7442532                         5           1958.928726   \n",
       "2      2256073                         0           3363.009259   \n",
       "3      4885975                         0           4766.648001   \n",
       "4      4700614                         1           1345.827718   \n",
       "\n",
       "   total_debt_outstanding       income  years_employed  fico_score  default  \n",
       "0             3915.471226  78039.38546               5         605        0  \n",
       "1             8228.752520  26648.43525               2         572        1  \n",
       "2             2027.830850  65866.71246               4         602        0  \n",
       "3             2501.730397  74356.88347               5         612        0  \n",
       "4             1768.826187  23448.32631               6         631        0  "
      ]
     },
     "execution_count": 4,
     "metadata": {},
     "output_type": "execute_result"
    }
   ],
   "source": [
    "df = pd.read_csv('Task_3_and_4_Loan_Data.csv')\n",
    "df.head()"
   ]
  },
  {
   "cell_type": "code",
   "execution_count": null,
   "id": "db1ba347",
   "metadata": {},
   "outputs": [],
   "source": [
    "class FicoBucketer:\n",
    "    def __init__(self, num_buckets=10):\n",
    "        self.num_buckets = num_buckets\n",
    "        self.boundaries = []\n",
    "\n",
    "    def _log_likelihood(self, n, k):\n",
    "        if n == 0 or k == 0 or k == n:\n",
    "            return 0\n",
    "        p = k / n\n",
    "        return k * np.log(p) + (n - k) * np.log(1 - p)\n",
    "\n",
    "    def fit(self, fico_scores, defaults):\n",
    "        x = list(defaults)\n",
    "        y = list(fico_scores)\n",
    "        n = len(x)\n",
    "\n",
    "        default = [0 for _ in range(851)]\n",
    "        total = [0 for _ in range(851)]\n",
    "\n",
    "        for i in range(n):\n",
    "            y[i] = int(y[i])\n",
    "            default[y[i] - 300] += x[i]\n",
    "            total[y[i] - 300] += 1\n",
    "\n",
    "        for i in range(0, 551):\n",
    "            if i > 0:\n",
    "                default[i] += default[i - 1]\n",
    "                total[i] += total[i - 1]\n",
    "\n",
    "        r = self.num_buckets\n",
    "        dp = [[[-10**18, 0] for _ in range(551)] for _ in range(r + 1)]\n",
    "\n",
    "        for i in range(r + 1):\n",
    "            for j in range(551):\n",
    "                if i == 0:\n",
    "                    dp[i][j][0] = 0\n",
    "                else:\n",
    "                    for k in range(j):\n",
    "                        if total[j] == total[k]:\n",
    "                            continue\n",
    "                        if i == 1:\n",
    "                            dp[i][j][0] = self._log_likelihood(total[j], default[j])\n",
    "                        else:\n",
    "                            gain = self._log_likelihood(total[j] - total[k], default[j] - default[k])\n",
    "                            candidate = dp[i - 1][k][0] + gain\n",
    "                            if dp[i][j][0] < candidate:\n",
    "                                dp[i][j][0] = candidate\n",
    "                                dp[i][j][1] = k\n",
    "        k = 550\n",
    "        r_copy = r\n",
    "        boundaries = []\n",
    "        while r_copy >= 0:\n",
    "            boundaries.append(k + 300)\n",
    "            k = dp[r_copy][k][1]\n",
    "            r_copy -= 1\n",
    "\n",
    "        self.boundaries = boundaries\n",
    "\n",
    "    def get_boundaries(self):\n",
    "        return self.boundaries\n",
    "\n"
   ]
  },
  {
   "cell_type": "code",
   "execution_count": 26,
   "id": "6b79b7b0",
   "metadata": {},
   "outputs": [
    {
     "name": "stdout",
     "output_type": "stream",
     "text": [
      "Bucket boundaries:\n",
      "[850, 753, 752, 732, 696, 649, 611, 580, 552, 520, 300]\n"
     ]
    }
   ],
   "source": [
    "bucketer = FicoBucketer(num_buckets=10)\n",
    "bucketer.fit(df['fico_score'], df['default'])\n",
    "\n",
    "#Print boundaries (from high to low) as the problem suggests\n",
    "print(\"Bucket boundaries:\")\n",
    "print(bucketer.get_boundaries())"
   ]
  },
  {
   "cell_type": "markdown",
   "id": "41524fe1",
   "metadata": {},
   "source": [
    "We get meaningful splits"
   ]
  }
 ],
 "metadata": {
  "kernelspec": {
   "display_name": "Python 3",
   "language": "python",
   "name": "python3"
  },
  "language_info": {
   "codemirror_mode": {
    "name": "ipython",
    "version": 3
   },
   "file_extension": ".py",
   "mimetype": "text/x-python",
   "name": "python",
   "nbconvert_exporter": "python",
   "pygments_lexer": "ipython3",
   "version": "3.11.5"
  }
 },
 "nbformat": 4,
 "nbformat_minor": 5
}
