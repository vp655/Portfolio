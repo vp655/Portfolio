{
 "cells": [
  {
   "cell_type": "markdown",
   "id": "691ddfe2",
   "metadata": {},
   "source": [
    "# Task 3"
   ]
  },
  {
   "cell_type": "code",
   "execution_count": 4,
   "id": "c42a04c8",
   "metadata": {},
   "outputs": [],
   "source": [
    "import pandas as pd\n",
    "import numpy as np\n",
    "from sklearn.model_selection import train_test_split\n",
    "from sklearn.linear_model import LogisticRegression\n",
    "from sklearn.ensemble import RandomForestClassifier\n",
    "from sklearn.preprocessing import StandardScaler\n",
    "from sklearn.metrics import roc_auc_score"
   ]
  },
  {
   "cell_type": "code",
   "execution_count": 3,
   "id": "eb696f20",
   "metadata": {},
   "outputs": [
    {
     "data": {
      "text/html": [
       "<div>\n",
       "<style scoped>\n",
       "    .dataframe tbody tr th:only-of-type {\n",
       "        vertical-align: middle;\n",
       "    }\n",
       "\n",
       "    .dataframe tbody tr th {\n",
       "        vertical-align: top;\n",
       "    }\n",
       "\n",
       "    .dataframe thead th {\n",
       "        text-align: right;\n",
       "    }\n",
       "</style>\n",
       "<table border=\"1\" class=\"dataframe\">\n",
       "  <thead>\n",
       "    <tr style=\"text-align: right;\">\n",
       "      <th></th>\n",
       "      <th>customer_id</th>\n",
       "      <th>credit_lines_outstanding</th>\n",
       "      <th>loan_amt_outstanding</th>\n",
       "      <th>total_debt_outstanding</th>\n",
       "      <th>income</th>\n",
       "      <th>years_employed</th>\n",
       "      <th>fico_score</th>\n",
       "      <th>default</th>\n",
       "    </tr>\n",
       "  </thead>\n",
       "  <tbody>\n",
       "    <tr>\n",
       "      <th>0</th>\n",
       "      <td>8153374</td>\n",
       "      <td>0</td>\n",
       "      <td>5221.545193</td>\n",
       "      <td>3915.471226</td>\n",
       "      <td>78039.38546</td>\n",
       "      <td>5</td>\n",
       "      <td>605</td>\n",
       "      <td>0</td>\n",
       "    </tr>\n",
       "    <tr>\n",
       "      <th>1</th>\n",
       "      <td>7442532</td>\n",
       "      <td>5</td>\n",
       "      <td>1958.928726</td>\n",
       "      <td>8228.752520</td>\n",
       "      <td>26648.43525</td>\n",
       "      <td>2</td>\n",
       "      <td>572</td>\n",
       "      <td>1</td>\n",
       "    </tr>\n",
       "    <tr>\n",
       "      <th>2</th>\n",
       "      <td>2256073</td>\n",
       "      <td>0</td>\n",
       "      <td>3363.009259</td>\n",
       "      <td>2027.830850</td>\n",
       "      <td>65866.71246</td>\n",
       "      <td>4</td>\n",
       "      <td>602</td>\n",
       "      <td>0</td>\n",
       "    </tr>\n",
       "    <tr>\n",
       "      <th>3</th>\n",
       "      <td>4885975</td>\n",
       "      <td>0</td>\n",
       "      <td>4766.648001</td>\n",
       "      <td>2501.730397</td>\n",
       "      <td>74356.88347</td>\n",
       "      <td>5</td>\n",
       "      <td>612</td>\n",
       "      <td>0</td>\n",
       "    </tr>\n",
       "    <tr>\n",
       "      <th>4</th>\n",
       "      <td>4700614</td>\n",
       "      <td>1</td>\n",
       "      <td>1345.827718</td>\n",
       "      <td>1768.826187</td>\n",
       "      <td>23448.32631</td>\n",
       "      <td>6</td>\n",
       "      <td>631</td>\n",
       "      <td>0</td>\n",
       "    </tr>\n",
       "  </tbody>\n",
       "</table>\n",
       "</div>"
      ],
      "text/plain": [
       "   customer_id  credit_lines_outstanding  loan_amt_outstanding  \\\n",
       "0      8153374                         0           5221.545193   \n",
       "1      7442532                         5           1958.928726   \n",
       "2      2256073                         0           3363.009259   \n",
       "3      4885975                         0           4766.648001   \n",
       "4      4700614                         1           1345.827718   \n",
       "\n",
       "   total_debt_outstanding       income  years_employed  fico_score  default  \n",
       "0             3915.471226  78039.38546               5         605        0  \n",
       "1             8228.752520  26648.43525               2         572        1  \n",
       "2             2027.830850  65866.71246               4         602        0  \n",
       "3             2501.730397  74356.88347               5         612        0  \n",
       "4             1768.826187  23448.32631               6         631        0  "
      ]
     },
     "execution_count": 3,
     "metadata": {},
     "output_type": "execute_result"
    }
   ],
   "source": [
    "df = pd.read_csv('Task_3_and_4_Loan_Data.csv')\n",
    "df.head()"
   ]
  },
  {
   "cell_type": "code",
   "execution_count": 10,
   "id": "32eb8e35",
   "metadata": {},
   "outputs": [],
   "source": [
    "class DefaultRiskModel:\n",
    "    def __init__(self, recovery_rate=0.1):\n",
    "        self.recovery_rate = recovery_rate\n",
    "        self.model = None\n",
    "        self.scaler = None\n",
    "        self.feature_columns = None\n",
    "\n",
    "    def train(self, df, target_col='default', id_col='customer_id'):\n",
    "        df = df.drop(columns=[id_col], errors='ignore') #the id doesnt give any info\n",
    "\n",
    "        X = df.drop(columns=[target_col])\n",
    "        y = df[target_col]\n",
    "\n",
    "        self.feature_columns = X.columns.tolist()\n",
    "\n",
    "        self.scaler = StandardScaler()\n",
    "        X_scaled = self.scaler.fit_transform(X)\n",
    "\n",
    "        X_train, X_test, y_train, y_test = train_test_split(X_scaled, y, test_size=0.2, random_state=42)\n",
    "\n",
    "        #trying multiple models\n",
    "        logreg = LogisticRegression()\n",
    "        rf = RandomForestClassifier(n_estimators=100, random_state=42)\n",
    "\n",
    "        logreg.fit(X_train, y_train)\n",
    "        rf.fit(X_train, y_train)\n",
    "\n",
    "        auc_log = roc_auc_score(y_test, logreg.predict_proba(X_test)[:, 1])\n",
    "        auc_rf = roc_auc_score(y_test, rf.predict_proba(X_test)[:, 1])\n",
    "\n",
    "        self.model = rf if auc_rf > auc_log else logreg #whichever has better predictions\n",
    "        print(f\"Selected model: {'Random Forest' if self.model == rf else 'Logistic Regression'} (AUC = {max(auc_rf, auc_log):.4f})\")\n",
    "\n",
    "    def estimate_expected_loss(self, borrower_features):\n",
    "        x = pd.DataFrame([borrower_features])\n",
    "        x = x[self.feature_columns]  \n",
    "        x_scaled = self.scaler.transform(x)\n",
    "\n",
    "        pd_est = self.model.predict_proba(x_scaled)[0][1]\n",
    "        loan_amt = borrower_features['loan_amt_outstanding']\n",
    "        el = pd_est * loan_amt * (1 - self.recovery_rate)\n",
    "\n",
    "        return {\"probability_of_default\": pd_est,\"expected_loss\": el}"
   ]
  },
  {
   "cell_type": "code",
   "execution_count": 11,
   "id": "a1858ffe",
   "metadata": {},
   "outputs": [
    {
     "name": "stdout",
     "output_type": "stream",
     "text": [
      "Selected model: Logistic Regression (AUC = 1.0000)\n"
     ]
    }
   ],
   "source": [
    "model = DefaultRiskModel()\n",
    "model.train(df)"
   ]
  },
  {
   "cell_type": "code",
   "execution_count": 12,
   "id": "48716934",
   "metadata": {},
   "outputs": [
    {
     "name": "stdout",
     "output_type": "stream",
     "text": [
      "{'probability_of_default': 0.9380528506946687, 'expected_loss': 4221.237828126009}\n"
     ]
    }
   ],
   "source": [
    "borrower = {\"credit_lines_outstanding\": 3,\"loan_amt_outstanding\": 5000,\"total_debt_outstanding\": 10000,\"income\": 40000,\"years_employed\": 3,\"fico_score\": 590}\n",
    "print(model.estimate_expected_loss(borrower))"
   ]
  }
 ],
 "metadata": {
  "kernelspec": {
   "display_name": "Python 3",
   "language": "python",
   "name": "python3"
  },
  "language_info": {
   "codemirror_mode": {
    "name": "ipython",
    "version": 3
   },
   "file_extension": ".py",
   "mimetype": "text/x-python",
   "name": "python",
   "nbconvert_exporter": "python",
   "pygments_lexer": "ipython3",
   "version": "3.11.5"
  }
 },
 "nbformat": 4,
 "nbformat_minor": 5
}
